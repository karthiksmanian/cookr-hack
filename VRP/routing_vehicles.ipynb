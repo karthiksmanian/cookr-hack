{
 "cells": [
  {
   "cell_type": "code",
   "execution_count": 4,
   "id": "d48796f0-fad9-4354-8beb-49a6131d2909",
   "metadata": {},
   "outputs": [],
   "source": [
    "import pandas as pd\n",
    "from scipy.spatial.distance import pdist, squareform\n",
    "import numpy as np\n",
    "import random"
   ]
  },
  {
   "cell_type": "code",
   "execution_count": 15,
   "id": "40d8cb5a-efe8-4e4a-a39e-3639d266229a",
   "metadata": {},
   "outputs": [],
   "source": [
    "from math import radians, cos, sin, asin, sqrt\n",
    "\n",
    "def haversine(lon1, lat1, lon2, lat2):\n",
    "    \"\"\"\n",
    "    Calculate the great circle distance in kilometers between two points\n",
    "    on the earth (specified in decimal degrees)\n",
    "    \"\"\"\n",
    "    lon1, lat1, lon2, lat2 = map(radians, [lon1, lat1, lon2, lat2])\n",
    "\n",
    "    dlon = lon2 - lon1\n",
    "    dlat = lat2 - lat1\n",
    "    a = sin(dlat/2)**2 + cos(lat1) * cos(lat2) * sin(dlon/2)**2\n",
    "    c = 2 * asin(sqrt(a))\n",
    "    r = 6371 # Radius of earth in kilometers. Use 3956 for miles. Determines return value units.\n",
    "    return int(c * r)"
   ]
  },
  {
   "cell_type": "code",
   "execution_count": 16,
   "id": "03beece2-6124-42ee-b95a-04b5de683b98",
   "metadata": {},
   "outputs": [],
   "source": [
    "df = pd.read_csv(\"Coimbatore.csv\")"
   ]
  },
  {
   "cell_type": "code",
   "execution_count": 17,
   "id": "79973f95-b8b5-4770-b782-3879dcd08fa1",
   "metadata": {},
   "outputs": [
    {
     "data": {
      "text/html": [
       "<div>\n",
       "<style scoped>\n",
       "    .dataframe tbody tr th:only-of-type {\n",
       "        vertical-align: middle;\n",
       "    }\n",
       "\n",
       "    .dataframe tbody tr th {\n",
       "        vertical-align: top;\n",
       "    }\n",
       "\n",
       "    .dataframe thead th {\n",
       "        text-align: right;\n",
       "    }\n",
       "</style>\n",
       "<table border=\"1\" class=\"dataframe\">\n",
       "  <thead>\n",
       "    <tr style=\"text-align: right;\">\n",
       "      <th></th>\n",
       "      <th>Latitude</th>\n",
       "      <th>Longitude</th>\n",
       "      <th>Cluster</th>\n",
       "    </tr>\n",
       "  </thead>\n",
       "  <tbody>\n",
       "    <tr>\n",
       "      <th>0</th>\n",
       "      <td>37.580335</td>\n",
       "      <td>-121.240076</td>\n",
       "      <td>0</td>\n",
       "    </tr>\n",
       "    <tr>\n",
       "      <th>1</th>\n",
       "      <td>37.604987</td>\n",
       "      <td>-121.040026</td>\n",
       "      <td>0</td>\n",
       "    </tr>\n",
       "    <tr>\n",
       "      <th>2</th>\n",
       "      <td>37.626297</td>\n",
       "      <td>-121.269253</td>\n",
       "      <td>0</td>\n",
       "    </tr>\n",
       "    <tr>\n",
       "      <th>3</th>\n",
       "      <td>37.559299</td>\n",
       "      <td>-121.154000</td>\n",
       "      <td>0</td>\n",
       "    </tr>\n",
       "    <tr>\n",
       "      <th>4</th>\n",
       "      <td>37.604199</td>\n",
       "      <td>-121.191619</td>\n",
       "      <td>0</td>\n",
       "    </tr>\n",
       "  </tbody>\n",
       "</table>\n",
       "</div>"
      ],
      "text/plain": [
       "    Latitude   Longitude  Cluster\n",
       "0  37.580335 -121.240076        0\n",
       "1  37.604987 -121.040026        0\n",
       "2  37.626297 -121.269253        0\n",
       "3  37.559299 -121.154000        0\n",
       "4  37.604199 -121.191619        0"
      ]
     },
     "execution_count": 17,
     "metadata": {},
     "output_type": "execute_result"
    }
   ],
   "source": [
    "df.head()"
   ]
  },
  {
   "cell_type": "code",
   "execution_count": 18,
   "id": "69680c7a-d4dd-4b25-98a7-f5dadfbfb8c9",
   "metadata": {},
   "outputs": [],
   "source": [
    "df = df.drop(columns=['Cluster'])"
   ]
  },
  {
   "cell_type": "code",
   "execution_count": 19,
   "id": "b937503a-5708-493b-94dc-cd0bef91ee36",
   "metadata": {},
   "outputs": [],
   "source": [
    "df = df[:50]"
   ]
  },
  {
   "cell_type": "code",
   "execution_count": 20,
   "id": "4e0147ca-a1ff-4c04-83ef-a1541ae62ef8",
   "metadata": {},
   "outputs": [
    {
     "data": {
      "text/html": [
       "<div>\n",
       "<style scoped>\n",
       "    .dataframe tbody tr th:only-of-type {\n",
       "        vertical-align: middle;\n",
       "    }\n",
       "\n",
       "    .dataframe tbody tr th {\n",
       "        vertical-align: top;\n",
       "    }\n",
       "\n",
       "    .dataframe thead th {\n",
       "        text-align: right;\n",
       "    }\n",
       "</style>\n",
       "<table border=\"1\" class=\"dataframe\">\n",
       "  <thead>\n",
       "    <tr style=\"text-align: right;\">\n",
       "      <th></th>\n",
       "      <th>Latitude</th>\n",
       "      <th>Longitude</th>\n",
       "    </tr>\n",
       "  </thead>\n",
       "  <tbody>\n",
       "    <tr>\n",
       "      <th>0</th>\n",
       "      <td>37.580335</td>\n",
       "      <td>-121.240076</td>\n",
       "    </tr>\n",
       "    <tr>\n",
       "      <th>1</th>\n",
       "      <td>37.604987</td>\n",
       "      <td>-121.040026</td>\n",
       "    </tr>\n",
       "    <tr>\n",
       "      <th>2</th>\n",
       "      <td>37.626297</td>\n",
       "      <td>-121.269253</td>\n",
       "    </tr>\n",
       "    <tr>\n",
       "      <th>3</th>\n",
       "      <td>37.559299</td>\n",
       "      <td>-121.154000</td>\n",
       "    </tr>\n",
       "    <tr>\n",
       "      <th>4</th>\n",
       "      <td>37.604199</td>\n",
       "      <td>-121.191619</td>\n",
       "    </tr>\n",
       "  </tbody>\n",
       "</table>\n",
       "</div>"
      ],
      "text/plain": [
       "    Latitude   Longitude\n",
       "0  37.580335 -121.240076\n",
       "1  37.604987 -121.040026\n",
       "2  37.626297 -121.269253\n",
       "3  37.559299 -121.154000\n",
       "4  37.604199 -121.191619"
      ]
     },
     "execution_count": 20,
     "metadata": {},
     "output_type": "execute_result"
    }
   ],
   "source": [
    "df.head()"
   ]
  },
  {
   "cell_type": "code",
   "execution_count": 21,
   "id": "0eebd1f4-4382-465d-a4d3-96973e8a7d11",
   "metadata": {},
   "outputs": [
    {
     "name": "stdout",
     "output_type": "stream",
     "text": [
      "Centroid Latitude: 37.600023451254536\n",
      "Centroid Longitude: -121.22390154391026\n"
     ]
    }
   ],
   "source": [
    "from scipy.spatial.distance import cdist\n",
    "\n",
    "# Calculate the mean latitude and longitude\n",
    "centroid_lat = df['Latitude'].mean()\n",
    "centroid_lon = df['Longitude'].mean()\n",
    "\n",
    "# Calculate distances from each point to the centroid\n",
    "distances = cdist(df[['Latitude', 'Longitude']], [(centroid_lat, centroid_lon)])\n",
    "\n",
    "# Find the index of the closest point to the centroid\n",
    "centroid_index = distances.argmin()\n",
    "\n",
    "# Get the coordinates of the centroid data point\n",
    "centroid_point = df.iloc[centroid_index]\n",
    "\n",
    "print(\"Centroid Latitude:\", centroid_point['Latitude'])\n",
    "print(\"Centroid Longitude:\", centroid_point['Longitude'])"
   ]
  },
  {
   "cell_type": "code",
   "execution_count": 22,
   "id": "5f5274bf-6130-457f-9e8f-eb10f675cd51",
   "metadata": {},
   "outputs": [],
   "source": [
    "distances = pdist(df[['Latitude', 'Longitude']], \n",
    "                  lambda u, v: haversine(u[0], u[1], v[0], v[1]))"
   ]
  },
  {
   "cell_type": "code",
   "execution_count": 23,
   "id": "f800fba3-962c-4b32-a6ba-cf35fba015e1",
   "metadata": {},
   "outputs": [],
   "source": [
    "distance_matrix = squareform(distances)"
   ]
  },
  {
   "cell_type": "code",
   "execution_count": 24,
   "id": "f467e5fb-b5b4-45ef-8f92-77add7f32d10",
   "metadata": {},
   "outputs": [
    {
     "data": {
      "text/plain": [
       "array([[ 0., 22.,  4., ...,  3.,  0.,  5.],\n",
       "       [22.,  0., 25., ..., 26., 21., 16.],\n",
       "       [ 4., 25.,  0., ...,  3.,  4.,  8.],\n",
       "       ...,\n",
       "       [ 3., 26.,  3., ...,  0.,  4.,  9.],\n",
       "       [ 0., 21.,  4., ...,  4.,  0.,  4.],\n",
       "       [ 5., 16.,  8., ...,  9.,  4.,  0.]])"
      ]
     },
     "execution_count": 24,
     "metadata": {},
     "output_type": "execute_result"
    }
   ],
   "source": [
    "distance_matrix"
   ]
  },
  {
   "cell_type": "code",
   "execution_count": 25,
   "id": "94e7a122-1c84-4122-8567-7de68a9fe517",
   "metadata": {},
   "outputs": [],
   "source": [
    "def distance_to_time(distance, traffic_factor):\n",
    "    \"\"\"\n",
    "    Convert distance to time based on traffic factor.\n",
    "    Assume time = distance / speed, where speed is inversely proportional to traffic factor.\n",
    "    \"\"\"\n",
    "    speed = np.random.uniform(low=20, high=60) / traffic_factor\n",
    "    \n",
    "    return (distance / speed)*60\n",
    "\n",
    "traffic_factor_matrix = np.random.uniform(low=1, high=2, size=distance_matrix.shape)\n",
    "\n",
    "time_matrix = distance_to_time(distance_matrix, traffic_factor_matrix)"
   ]
  },
  {
   "cell_type": "code",
   "execution_count": 26,
   "id": "4bd8308e-48b9-49e1-949e-04e8eba4be19",
   "metadata": {},
   "outputs": [
    {
     "data": {
      "text/plain": [
       "array([[ 0.        , 42.92268809, 12.58968075, ...,  8.1084842 ,\n",
       "         0.        , 10.96961472],\n",
       "       [70.81541385,  0.        , 43.93510096, ..., 55.88312269,\n",
       "        40.89940866, 53.84214136],\n",
       "       [ 7.05188225, 57.25856565,  0.        , ...,  7.84319008,\n",
       "        13.65208201, 25.13922031],\n",
       "       ...,\n",
       "       [ 9.09523999, 51.77575346,  7.9263697 , ...,  0.        ,\n",
       "         7.23129956, 17.94695488],\n",
       "       [ 0.        , 41.47145499,  8.21110892, ..., 10.16249973,\n",
       "         0.        , 12.8683312 ],\n",
       "       [13.48399039, 52.21140144, 21.86227679, ..., 20.58487305,\n",
       "         7.459617  ,  0.        ]])"
      ]
     },
     "execution_count": 26,
     "metadata": {},
     "output_type": "execute_result"
    }
   ],
   "source": [
    "time_matrix"
   ]
  },
  {
   "cell_type": "code",
   "execution_count": 28,
   "id": "36723ffb-f59a-4cba-8667-f964ad98c27b",
   "metadata": {},
   "outputs": [],
   "source": [
    "def generate_orders(num_points, num_kitchens, max_orders_per_customer=2, order_probability=0.5):\n",
    "    kitchen_indices = np.random.choice(num_points, num_kitchens, replace=False)\n",
    "    \n",
    "    all_indices = set(range(num_points))\n",
    "    customer_indices = list(all_indices - set(kitchen_indices))\n",
    "    \n",
    "    orders = []\n",
    "    for i, customer_index in enumerate(customer_indices):\n",
    "        if np.random.rand() < order_probability:\n",
    "            num_orders = np.random.randint(1, max_orders_per_customer + 1)\n",
    "            for j in range(num_orders):\n",
    "                kitchen_index = np.random.choice(kitchen_indices)\n",
    "                prep_time = np.random.uniform(10, 46)  # 10-45 mins\n",
    "                orders.append({'Order Number': len(orders) + 1, 'Prep Time': prep_time, 'Kitchen': kitchen_index, 'Customer': customer_index})\n",
    "    \n",
    "    df_orders = pd.DataFrame(orders)\n",
    "    return df_orders"
   ]
  },
  {
   "cell_type": "code",
   "execution_count": 29,
   "id": "7040aa5c-3c15-4f86-8457-a31d2d525d00",
   "metadata": {},
   "outputs": [],
   "source": [
    "num_points = len(time_matrix)  # Number of data points\n",
    "num_kitchens = 6  # Number of kitchens\n",
    "\n",
    "# Generate orders\n",
    "df_orders = generate_orders(num_points, num_kitchens, max_orders_per_customer=5, order_probability=1)"
   ]
  },
  {
   "cell_type": "code",
   "execution_count": 30,
   "id": "93359334-74f0-464c-ad8d-57dcb27990ed",
   "metadata": {},
   "outputs": [
    {
     "data": {
      "text/plain": [
       "Customer\n",
       "27    1\n",
       "31    1\n",
       "38    1\n",
       "25    1\n",
       "10    1\n",
       "8     1\n",
       "19    1\n",
       "47    1\n",
       "5     1\n",
       "17    2\n",
       "29    2\n",
       "9     2\n",
       "45    2\n",
       "15    2\n",
       "43    3\n",
       "41    3\n",
       "39    3\n",
       "6     3\n",
       "24    3\n",
       "40    3\n",
       "11    3\n",
       "35    3\n",
       "7     3\n",
       "20    3\n",
       "18    3\n",
       "22    4\n",
       "28    4\n",
       "49    4\n",
       "12    4\n",
       "34    4\n",
       "42    5\n",
       "46    5\n",
       "26    5\n",
       "44    5\n",
       "0     5\n",
       "1     5\n",
       "30    5\n",
       "37    5\n",
       "2     5\n",
       "4     5\n",
       "13    5\n",
       "14    5\n",
       "23    5\n",
       "16    5\n",
       "Name: count, dtype: int64"
      ]
     },
     "execution_count": 30,
     "metadata": {},
     "output_type": "execute_result"
    }
   ],
   "source": [
    "df_orders['Customer'].value_counts().sort_values()"
   ]
  },
  {
   "cell_type": "markdown",
   "id": "09d8827d-d46f-43e3-a0ae-127c4c707a84",
   "metadata": {},
   "source": [
    "# VRP start"
   ]
  },
  {
   "cell_type": "code",
   "execution_count": 31,
   "id": "249c3d2a-6ae4-4d83-b16e-7abdd4312d02",
   "metadata": {},
   "outputs": [],
   "source": [
    "depot = centroid_index"
   ]
  },
  {
   "cell_type": "code",
   "execution_count": 32,
   "id": "e8c09dcc-55ef-40c9-b17a-23c2b284547f",
   "metadata": {},
   "outputs": [
    {
     "data": {
      "text/plain": [
       "35"
      ]
     },
     "execution_count": 32,
     "metadata": {},
     "output_type": "execute_result"
    }
   ],
   "source": [
    "centroid_index"
   ]
  },
  {
   "cell_type": "markdown",
   "id": "e12ce651-9244-4915-b8cd-2a0f1a1eaeb2",
   "metadata": {},
   "source": [
    "# CVRP - Capacitated Vehicle Routeing Problem"
   ]
  },
  {
   "cell_type": "code",
   "execution_count": 33,
   "id": "59886113-90f4-4488-9c86-92aa330fb8a2",
   "metadata": {},
   "outputs": [],
   "source": [
    "vehicle_capacity = 3 # 3 orders.\n",
    "num_vehicles_needed = 8\n",
    "\n",
    "customer_demands = df_orders['Customer'].value_counts().reset_index()\n",
    "customer_demands.columns = ['Customer', 'Demands']\n",
    "\n",
    "demands = np.zeros(num_points, dtype=int)\n",
    "demands[customer_demands['Customer']] = customer_demands['Demands']"
   ]
  },
  {
   "cell_type": "markdown",
   "id": "72e08c58-d20b-4166-9f94-fcd75dc1f710",
   "metadata": {},
   "source": [
    "# VRPPD - Vehicle Routeing Problem with Pickup and Drop"
   ]
  },
  {
   "cell_type": "code",
   "execution_count": 34,
   "id": "c9d8967f-0368-432f-9279-c11deb25fd05",
   "metadata": {},
   "outputs": [],
   "source": [
    "pickup_deliveries = df_orders[['Kitchen', 'Customer']].values.tolist()"
   ]
  },
  {
   "cell_type": "code",
   "execution_count": 35,
   "id": "1e0d3b52-0d93-40ca-8b7f-8d61a2d985ab",
   "metadata": {},
   "outputs": [
    {
     "data": {
      "text/plain": [
       "42.92268809109699"
      ]
     },
     "execution_count": 35,
     "metadata": {},
     "output_type": "execute_result"
    }
   ],
   "source": [
    "max(time_matrix[0])"
   ]
  },
  {
   "cell_type": "code",
   "execution_count": 36,
   "id": "3d23f3c9-1ab9-45f8-9854-75ec3ac2ccf8",
   "metadata": {},
   "outputs": [
    {
     "data": {
      "text/html": [
       "<div>\n",
       "<style scoped>\n",
       "    .dataframe tbody tr th:only-of-type {\n",
       "        vertical-align: middle;\n",
       "    }\n",
       "\n",
       "    .dataframe tbody tr th {\n",
       "        vertical-align: top;\n",
       "    }\n",
       "\n",
       "    .dataframe thead th {\n",
       "        text-align: right;\n",
       "    }\n",
       "</style>\n",
       "<table border=\"1\" class=\"dataframe\">\n",
       "  <thead>\n",
       "    <tr style=\"text-align: right;\">\n",
       "      <th></th>\n",
       "      <th>Order Number</th>\n",
       "      <th>Prep Time</th>\n",
       "      <th>Kitchen</th>\n",
       "      <th>Customer</th>\n",
       "    </tr>\n",
       "  </thead>\n",
       "  <tbody>\n",
       "    <tr>\n",
       "      <th>0</th>\n",
       "      <td>1</td>\n",
       "      <td>21.310781</td>\n",
       "      <td>36</td>\n",
       "      <td>0</td>\n",
       "    </tr>\n",
       "    <tr>\n",
       "      <th>1</th>\n",
       "      <td>2</td>\n",
       "      <td>21.237859</td>\n",
       "      <td>36</td>\n",
       "      <td>0</td>\n",
       "    </tr>\n",
       "    <tr>\n",
       "      <th>2</th>\n",
       "      <td>3</td>\n",
       "      <td>30.447253</td>\n",
       "      <td>36</td>\n",
       "      <td>0</td>\n",
       "    </tr>\n",
       "    <tr>\n",
       "      <th>3</th>\n",
       "      <td>4</td>\n",
       "      <td>14.372810</td>\n",
       "      <td>48</td>\n",
       "      <td>0</td>\n",
       "    </tr>\n",
       "    <tr>\n",
       "      <th>4</th>\n",
       "      <td>5</td>\n",
       "      <td>27.801476</td>\n",
       "      <td>21</td>\n",
       "      <td>0</td>\n",
       "    </tr>\n",
       "  </tbody>\n",
       "</table>\n",
       "</div>"
      ],
      "text/plain": [
       "   Order Number  Prep Time  Kitchen  Customer\n",
       "0             1  21.310781       36         0\n",
       "1             2  21.237859       36         0\n",
       "2             3  30.447253       36         0\n",
       "3             4  14.372810       48         0\n",
       "4             5  27.801476       21         0"
      ]
     },
     "execution_count": 36,
     "metadata": {},
     "output_type": "execute_result"
    }
   ],
   "source": [
    "df_orders.head()"
   ]
  },
  {
   "cell_type": "markdown",
   "id": "ed70ce1c-12e1-4de7-943e-aa371325c1ca",
   "metadata": {},
   "source": [
    "# VRPTW - Vehicle Routeing Problem with Time Window"
   ]
  },
  {
   "cell_type": "code",
   "execution_count": 37,
   "id": "b46cca2d-444f-45be-99c9-3179321a2cf8",
   "metadata": {},
   "outputs": [
    {
     "data": {
      "text/plain": [
       "35"
      ]
     },
     "execution_count": 37,
     "metadata": {},
     "output_type": "execute_result"
    }
   ],
   "source": [
    "centroid_index"
   ]
  },
  {
   "cell_type": "code",
   "execution_count": 38,
   "id": "74b7ef96-1cac-4e8e-b0f6-d7ef462b9166",
   "metadata": {},
   "outputs": [],
   "source": [
    "def generate_time_windows(pickup_delivery_list, service_cities, service_time=10000):\n",
    "    time_windows = [(0, service_time) if city_idx in service_cities else (0, 0) for city_idx in range(max(pickup_delivery_list)[1] + 1)]\n",
    "    return time_windows"
   ]
  },
  {
   "cell_type": "code",
   "execution_count": 39,
   "id": "4a747a48-b9ea-4c2f-bff1-6fb7d009c76e",
   "metadata": {},
   "outputs": [],
   "source": [
    "service_cities = set(city_idx for _, city_idx in pickup_deliveries)\n",
    "time_windows = generate_time_windows(pickup_deliveries, service_cities)"
   ]
  },
  {
   "cell_type": "code",
   "execution_count": 40,
   "id": "5300412b-376b-4525-9bae-88d1fd7a1fbc",
   "metadata": {},
   "outputs": [],
   "source": [
    "time_windows[centroid_index] = [0, 10000]"
   ]
  },
  {
   "cell_type": "code",
   "execution_count": 41,
   "id": "43cacaf6-1770-414f-99ca-f8a12737f63d",
   "metadata": {},
   "outputs": [],
   "source": [
    "prep_times_map = {}\n",
    "\n",
    "# Iterate over each order and store the prep times in the hashmap\n",
    "for _, row in df_orders.iterrows():\n",
    "    kitchen, customer, prep_time = row['Kitchen'], row['Customer'], row['Prep Time']\n",
    "    prep_times_map[(kitchen, customer)] = prep_time"
   ]
  },
  {
   "cell_type": "code",
   "execution_count": 42,
   "id": "8bfd7340-961e-40af-8e40-4a189fd920f2",
   "metadata": {},
   "outputs": [],
   "source": [
    "# Iterate over the hashmap and update the time matrix\n",
    "for (kitchen, customer), prep_time in prep_times_map.items():\n",
    "    estimated_arrival_time = max(time_matrix[int(customer)][int(kitchen)], prep_time)\n",
    "    time_matrix[int(customer)][int(kitchen)] = max(estimated_arrival_time, time_matrix[int(customer)][int(kitchen)]*60)"
   ]
  },
  {
   "cell_type": "code",
   "execution_count": 43,
   "id": "70672857-2964-4763-8eeb-d6d6ef1322d3",
   "metadata": {},
   "outputs": [
    {
     "data": {
      "text/plain": [
       "array([[   0.        ,   42.92268809,   12.58968075, ...,    8.1084842 ,\n",
       "          14.37280959,   10.96961472],\n",
       "       [  70.81541385,    0.        ,   43.93510096, ...,   55.88312269,\n",
       "        2453.96451964,   53.84214136],\n",
       "       [   7.05188225,   57.25856565,    0.        , ...,    7.84319008,\n",
       "          13.65208201,   25.13922031],\n",
       "       ...,\n",
       "       [   9.09523999,   51.77575346,    7.9263697 , ...,    0.        ,\n",
       "           7.23129956,   17.94695488],\n",
       "       [   0.        ,   41.47145499,    8.21110892, ...,   10.16249973,\n",
       "           0.        ,   12.8683312 ],\n",
       "       [  13.48399039,   52.21140144,   21.86227679, ...,   20.58487305,\n",
       "         447.57701983,    0.        ]])"
      ]
     },
     "execution_count": 43,
     "metadata": {},
     "output_type": "execute_result"
    }
   ],
   "source": [
    "time_matrix"
   ]
  },
  {
   "cell_type": "markdown",
   "id": "94346f5a-7a51-4b83-9a46-1a4fdc90dc46",
   "metadata": {},
   "source": [
    "# Google-ORTools solver for our modelled VRP"
   ]
  },
  {
   "cell_type": "code",
   "execution_count": 44,
   "id": "d55eca1d-8920-42e6-a580-559255de424e",
   "metadata": {},
   "outputs": [],
   "source": [
    "from ortools.constraint_solver import routing_enums_pb2\n",
    "from ortools.constraint_solver import pywrapcp\n",
    "import sys"
   ]
  },
  {
   "cell_type": "code",
   "execution_count": 57,
   "id": "4ba346e1-5d4a-4385-b52d-2b7aad93dffc",
   "metadata": {},
   "outputs": [],
   "source": [
    "def create_data_model():\n",
    "    \"\"\"Stores the data for the problem.\"\"\"\n",
    "    data = {}\n",
    "    neo_dist_matrix = []\n",
    "\n",
    "    for arr in time_matrix:\n",
    "        row = []\n",
    "        for val in arr:\n",
    "            row.append(int(val))\n",
    "        neo_dist_matrix.append(row)\n",
    "\n",
    "    data[\"distance_matrix\"] = neo_dist_matrix\n",
    "    data[\"num_vehicles\"] = num_vehicles_needed\n",
    "    data[\"depot\"] = int(depot)\n",
    "    data[\"pickups_deliveries\"] = pickup_deliveries\n",
    "    \n",
    "    return data"
   ]
  },
  {
   "cell_type": "code",
   "execution_count": 58,
   "id": "7a1b6766-0874-4d9f-8a11-ed22cabc8acf",
   "metadata": {},
   "outputs": [],
   "source": [
    "def print_solution(data, manager, routing, solution):\n",
    "    \"\"\"Prints solution on console.\"\"\"\n",
    "    print(f\"Objective: {solution.ObjectiveValue()}\")\n",
    "    total_distance = 0\n",
    "    for vehicle_id in range(data[\"num_vehicles\"]):\n",
    "        index = routing.Start(vehicle_id)\n",
    "        plan_output = f\"Route for vehicle {vehicle_id}:\\n\"\n",
    "        route_distance = 0\n",
    "        while not routing.IsEnd(index):\n",
    "            plan_output += f\" {manager.IndexToNode(index)} -> \"\n",
    "            previous_index = index\n",
    "            index = solution.Value(routing.NextVar(index))\n",
    "            route_distance += routing.GetArcCostForVehicle(\n",
    "                previous_index, index, vehicle_id\n",
    "            )\n",
    "        plan_output += f\"{manager.IndexToNode(index)}\\n\"\n",
    "        plan_output += f\"Distance of the route: {route_distance}m\\n\"\n",
    "        print(plan_output)\n",
    "        total_distance += route_distance\n",
    "    print(f\"Total Distance of all routes: {total_distance}m\")"
   ]
  },
  {
   "cell_type": "code",
   "execution_count": 59,
   "id": "567562f2-099a-42a6-ac9e-27c9e76b030a",
   "metadata": {},
   "outputs": [],
   "source": [
    "def main():\n",
    "    \"\"\"Entry point of the program.\"\"\"\n",
    "    # Instantiate the data problem.\n",
    "    data = create_data_model()\n",
    "\n",
    "    # Create the routing index manager.\n",
    "    manager = pywrapcp.RoutingIndexManager(\n",
    "        len(data[\"distance_matrix\"]), data[\"num_vehicles\"], data[\"depot\"]\n",
    "    )\n",
    "\n",
    "    # Create Routing Model.\n",
    "    routing = pywrapcp.RoutingModel(manager)\n",
    "\n",
    "\n",
    "    # Define cost of each arc.\n",
    "    def distance_callback(from_index, to_index):\n",
    "        \"\"\"Returns the manhattan distance between the two nodes.\"\"\"\n",
    "        # Convert from routing variable Index to distance matrix NodeIndex.\n",
    "        from_node = manager.IndexToNode(from_index)\n",
    "        to_node = manager.IndexToNode(to_index)\n",
    "        return data[\"distance_matrix\"][from_node][to_node]\n",
    "\n",
    "    transit_callback_index = routing.RegisterTransitCallback(distance_callback)\n",
    "    routing.SetArcCostEvaluatorOfAllVehicles(transit_callback_index)\n",
    "\n",
    "    # Add Distance constraint.\n",
    "    dimension_name = \"Distance\"\n",
    "    routing.AddDimension(\n",
    "        transit_callback_index,\n",
    "        0,  # no slack\n",
    "        3000,  # vehicle maximum travel distance\n",
    "        True,  # start cumul to zero\n",
    "        dimension_name,\n",
    "    )\n",
    "    distance_dimension = routing.GetDimensionOrDie(dimension_name)\n",
    "    distance_dimension.SetGlobalSpanCostCoefficient(100)\n",
    "\n",
    "    # Define Transportation Requests.\n",
    "    for request in data[\"pickups_deliveries\"]:\n",
    "        pickup_index = manager.NodeToIndex(request[0])\n",
    "        delivery_index = manager.NodeToIndex(request[1])\n",
    "        routing.AddPickupAndDelivery(pickup_index, delivery_index)\n",
    "        routing.solver().Add(\n",
    "            routing.VehicleVar(pickup_index) == routing.VehicleVar(delivery_index)\n",
    "        )\n",
    "        routing.solver().Add(\n",
    "            distance_dimension.CumulVar(pickup_index)\n",
    "            <= distance_dimension.CumulVar(delivery_index)\n",
    "        )\n",
    "\n",
    "    # Setting first solution heuristic.\n",
    "    search_parameters = pywrapcp.DefaultRoutingSearchParameters()\n",
    "    search_parameters.first_solution_strategy = (\n",
    "        routing_enums_pb2.FirstSolutionStrategy.PARALLEL_CHEAPEST_INSERTION\n",
    "    )\n",
    "\n",
    "    # Solve the problem.\n",
    "    solution = routing.SolveWithParameters(search_parameters)\n",
    "\n",
    "    # Print solution on console.\n",
    "    if solution:\n",
    "        print_solution(data, manager, routing, solution)"
   ]
  },
  {
   "cell_type": "code",
   "execution_count": 60,
   "id": "b416d6b8-00a2-4b1f-a660-94b987fae599",
   "metadata": {},
   "outputs": [],
   "source": [
    "if __name__ == \"__main__\":\n",
    "    main()"
   ]
  }
 ],
 "metadata": {
  "kernelspec": {
   "display_name": "Python 3 (ipykernel)",
   "language": "python",
   "name": "python3"
  },
  "language_info": {
   "codemirror_mode": {
    "name": "ipython",
    "version": 3
   },
   "file_extension": ".py",
   "mimetype": "text/x-python",
   "name": "python",
   "nbconvert_exporter": "python",
   "pygments_lexer": "ipython3",
   "version": "3.10.12"
  }
 },
 "nbformat": 4,
 "nbformat_minor": 5
}
